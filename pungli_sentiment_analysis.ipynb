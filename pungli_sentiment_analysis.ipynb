{
 "cells": [
  {
   "cell_type": "code",
   "execution_count": 90,
   "id": "initial_id",
   "metadata": {
    "collapsed": true,
    "ExecuteTime": {
     "end_time": "2023-12-22T03:36:53.751688900Z",
     "start_time": "2023-12-22T03:36:53.170878900Z"
    }
   },
   "outputs": [],
   "source": [
    "import pandas as pd\n",
    "import re\n",
    "from nltk.tokenize import word_tokenize\n",
    "from Sastrawi.Stemmer.StemmerFactory import StemmerFactory\n",
    "import tensorflow as tf\n",
    "factory = StemmerFactory()\n",
    "stemmer = factory.create_stemmer()\n",
    "from tensorflow.keras.preprocessing.sequence import pad_sequences\n",
    "import numpy as np\n"
   ]
  },
  {
   "cell_type": "code",
   "execution_count": 91,
   "outputs": [
    {
     "data": {
      "text/plain": "                                              review  sentiment\n0  View nya bagus cuma saya ada beberapa lapak ga...        1.0\n1  Cukup 1 kali aja ke sini, kapok ngga lagi ke s...        2.0\n2  sebenarnya tempatnya bagus, apalgi buat refres...        2.0\n3  gasuka banget, banyak pungli nya.\\nmasuk ke gn...        2.0\n4  Udaranya sejuk, pemandanganya nyejukin mata bg...        1.0",
      "text/html": "<div>\n<style scoped>\n    .dataframe tbody tr th:only-of-type {\n        vertical-align: middle;\n    }\n\n    .dataframe tbody tr th {\n        vertical-align: top;\n    }\n\n    .dataframe thead th {\n        text-align: right;\n    }\n</style>\n<table border=\"1\" class=\"dataframe\">\n  <thead>\n    <tr style=\"text-align: right;\">\n      <th></th>\n      <th>review</th>\n      <th>sentiment</th>\n    </tr>\n  </thead>\n  <tbody>\n    <tr>\n      <th>0</th>\n      <td>View nya bagus cuma saya ada beberapa lapak ga...</td>\n      <td>1.0</td>\n    </tr>\n    <tr>\n      <th>1</th>\n      <td>Cukup 1 kali aja ke sini, kapok ngga lagi ke s...</td>\n      <td>2.0</td>\n    </tr>\n    <tr>\n      <th>2</th>\n      <td>sebenarnya tempatnya bagus, apalgi buat refres...</td>\n      <td>2.0</td>\n    </tr>\n    <tr>\n      <th>3</th>\n      <td>gasuka banget, banyak pungli nya.\\nmasuk ke gn...</td>\n      <td>2.0</td>\n    </tr>\n    <tr>\n      <th>4</th>\n      <td>Udaranya sejuk, pemandanganya nyejukin mata bg...</td>\n      <td>1.0</td>\n    </tr>\n  </tbody>\n</table>\n</div>"
     },
     "execution_count": 91,
     "metadata": {},
     "output_type": "execute_result"
    }
   ],
   "source": [
    "df = pd.read_csv('pungli.csv')\n",
    "df['review'].dropna(inplace=True)\n",
    "df['sentiment'].dropna(inplace=True)\n",
    "df.head()"
   ],
   "metadata": {
    "collapsed": false,
    "ExecuteTime": {
     "end_time": "2023-12-22T03:36:55.991746700Z",
     "start_time": "2023-12-22T03:36:55.276647300Z"
    }
   },
   "id": "4a1cdc83e05409cb"
  },
  {
   "cell_type": "code",
   "execution_count": 92,
   "outputs": [],
   "source": [
    "#hapus karakter selain huruf dan angka\n",
    "#hapus new line char dan double space\n",
    "def secondClean(text):\n",
    "    cleaned = re.sub(r'[^a-zA-Z0-9\\s]', '', str(text))\n",
    "    cleaned = cleaned.replace('\\n', ' ')\n",
    "    cleaned = cleaned.replace ('  ', ' ')\n",
    "    return cleaned\n",
    "def lowercase(text):\n",
    "    lowered = text.lower()\n",
    "    return lowered\n",
    "def stopwording(text):\n",
    "    with open('combined2.txt', 'r') as f:\n",
    "        stop_words = f.read().splitlines()\n",
    "    word_tokens = word_tokenize(text)\n",
    "    filtered_sentence = [w for w in word_tokens if not w in stop_words]\n",
    "    return filtered_sentence\n",
    "def lemma(text):\n",
    "    return [stemmer.stem(word) for word in text]\n",
    "# Fungsi pre-processing tambahan untuk mengatasi slang words\n",
    "#def freqDist(text):\n",
    "    #freq_dist = nltk.FreqDist(text)\n",
    "    #return freq_dist"
   ],
   "metadata": {
    "collapsed": false,
    "ExecuteTime": {
     "end_time": "2023-12-22T03:36:57.507507200Z",
     "start_time": "2023-12-22T03:36:56.948980400Z"
    }
   },
   "id": "5332d9e797bf122"
  },
  {
   "cell_type": "code",
   "execution_count": 93,
   "outputs": [
    {
     "data": {
      "text/plain": "0                                        [bagus, urus]\n1                               [kapok, pungli, 10000]\n2                   [bagus, refresing, pungli, pungli]\n3    [gasuka, pungli, 20rb, bayar, 10rb, motor, 5rb...\n4                             [sejuk, nyejukin, bagus]\nName: cleaned, dtype: object"
     },
     "execution_count": 93,
     "metadata": {},
     "output_type": "execute_result"
    }
   ],
   "source": [
    "df['cleaned'] = df['review'].apply(secondClean)\n",
    "df['cleaned'] = df['cleaned'].apply(lowercase)\n",
    "df['cleaned'] = df['cleaned'].apply(stopwording)\n",
    "df['cleaned'] = df['cleaned'].apply(lemma)\n",
    "df['cleaned'].head()"
   ],
   "metadata": {
    "collapsed": false,
    "ExecuteTime": {
     "end_time": "2023-12-22T03:41:06.581607400Z",
     "start_time": "2023-12-22T03:37:03.046650200Z"
    }
   },
   "id": "85ed60b4b9039c0e"
  },
  {
   "cell_type": "code",
   "execution_count": 94,
   "outputs": [],
   "source": [
    "df = df.dropna(subset=['sentiment']).replace([np.inf, -np.inf], np.nan).dropna(subset=['sentiment'])\n"
   ],
   "metadata": {
    "collapsed": false,
    "ExecuteTime": {
     "end_time": "2023-12-22T03:41:10.746767800Z",
     "start_time": "2023-12-22T03:41:10.631387900Z"
    }
   },
   "id": "2fb76fdf732c35ec"
  },
  {
   "cell_type": "code",
   "execution_count": 95,
   "outputs": [],
   "source": [
    "from sklearn.model_selection import train_test_split\n",
    "from tensorflow.keras.models import Sequential\n",
    "from tensorflow.keras.layers import Embedding, LSTM, Dense, SpatialDropout1D\n",
    "from tensorflow.keras.preprocessing.text import Tokenizer\n",
    "\n",
    "# Siapkan data untuk dimasukkan ke model (features) dan data yang akan diprediksi (labels)\n",
    "X = df.cleaned\n",
    "y = df.sentiment\n",
    "# Split data menjadi 70% untuk latih dan 30% untuk uji\n",
    "max_words = 100\n",
    "max_len = 20\n",
    "tokenizer = Tokenizer(num_words=max_words, filters='!\"#$%&()*+,-./:;<=>?@[\\]^_`{|}~', lower=True)\n",
    "X_train, X_test, y_train, y_test = train_test_split(X, y, test_size=0.3, random_state=70)\n",
    "tokenizer.fit_on_texts(X_train)\n",
    "X_train_sequence = tokenizer.texts_to_sequences(X_train)\n",
    "X_test_sequence = tokenizer.texts_to_sequences(X_test)\n",
    "X_train_pad = pad_sequences(X_train_sequence, maxlen=max_len)\n",
    "X_test_pad = pad_sequences(X_test_sequence, maxlen=max_len)\n",
    "\n"
   ],
   "metadata": {
    "collapsed": false,
    "ExecuteTime": {
     "end_time": "2023-12-22T03:41:12.099667100Z",
     "start_time": "2023-12-22T03:41:11.875369600Z"
    }
   },
   "id": "32f64c996bf9fe27"
  },
  {
   "cell_type": "code",
   "execution_count": 96,
   "outputs": [],
   "source": [
    "model = tf.keras.models.Sequential([\n",
    "    tf.keras.layers.Embedding(max_words, 128, input_length=max_len),\n",
    "    tf.keras.layers.Dense(128),\n",
    "    tf.keras.layers.Dense(256),\n",
    "    tf.keras.layers.SpatialDropout1D(0.2),\n",
    "    tf.keras.layers.LSTM(128, dropout=0.2, recurrent_dropout=0.2),\n",
    "    tf.keras.layers.Dropout(0.5),\n",
    "    tf.keras.layers.Dense(3, activation='softmax')])\n",
    "optimizer = tf.keras.optimizers.Adam(learning_rate=0.01)\n",
    "model.compile(loss= 'sparse_categorical_crossentropy', optimizer=optimizer, metrics=['accuracy'])\n"
   ],
   "metadata": {
    "collapsed": false,
    "ExecuteTime": {
     "end_time": "2023-12-22T03:41:20.072280700Z",
     "start_time": "2023-12-22T03:41:18.509382900Z"
    }
   },
   "id": "9affd6c50460c9c0"
  },
  {
   "cell_type": "code",
   "execution_count": 100,
   "outputs": [
    {
     "name": "stdout",
     "output_type": "stream",
     "text": [
      "Epoch 1/50\n",
      "6/6 [==============================] - 1s 182ms/step - loss: 0.4657 - accuracy: 0.8580 - val_loss: 0.5049 - val_accuracy: 0.8435\n",
      "Epoch 2/50\n",
      "6/6 [==============================] - 1s 157ms/step - loss: 0.3994 - accuracy: 0.8887 - val_loss: 0.4833 - val_accuracy: 0.8435\n",
      "Epoch 3/50\n",
      "6/6 [==============================] - 1s 156ms/step - loss: 0.4061 - accuracy: 0.8785 - val_loss: 0.4775 - val_accuracy: 0.8265\n",
      "Epoch 4/50\n",
      "6/6 [==============================] - 1s 149ms/step - loss: 0.3957 - accuracy: 0.8858 - val_loss: 0.4713 - val_accuracy: 0.8401\n",
      "Epoch 5/50\n",
      "6/6 [==============================] - 1s 144ms/step - loss: 0.3922 - accuracy: 0.8858 - val_loss: 0.4557 - val_accuracy: 0.8571\n",
      "Epoch 6/50\n",
      "6/6 [==============================] - 1s 150ms/step - loss: 0.3733 - accuracy: 0.8931 - val_loss: 0.4740 - val_accuracy: 0.8571\n",
      "Epoch 7/50\n",
      "6/6 [==============================] - 1s 149ms/step - loss: 0.3660 - accuracy: 0.9004 - val_loss: 0.4619 - val_accuracy: 0.8673\n",
      "Epoch 8/50\n",
      "6/6 [==============================] - 1s 143ms/step - loss: 0.3643 - accuracy: 0.8887 - val_loss: 0.4453 - val_accuracy: 0.8605\n",
      "Epoch 9/50\n",
      "6/6 [==============================] - 1s 140ms/step - loss: 0.3841 - accuracy: 0.8960 - val_loss: 0.4308 - val_accuracy: 0.8605\n",
      "Epoch 10/50\n",
      "6/6 [==============================] - 1s 141ms/step - loss: 0.3786 - accuracy: 0.8814 - val_loss: 0.4444 - val_accuracy: 0.8571\n",
      "Epoch 11/50\n",
      "6/6 [==============================] - 1s 151ms/step - loss: 0.3746 - accuracy: 0.8946 - val_loss: 0.4644 - val_accuracy: 0.8435\n",
      "Epoch 12/50\n",
      "6/6 [==============================] - 1s 151ms/step - loss: 0.3856 - accuracy: 0.8917 - val_loss: 0.4729 - val_accuracy: 0.8435\n",
      "Epoch 13/50\n",
      "6/6 [==============================] - 1s 145ms/step - loss: 0.3709 - accuracy: 0.8917 - val_loss: 0.4725 - val_accuracy: 0.8605\n",
      "Epoch 14/50\n",
      "6/6 [==============================] - 1s 146ms/step - loss: 0.3623 - accuracy: 0.8946 - val_loss: 0.4287 - val_accuracy: 0.8673\n",
      "Epoch 15/50\n",
      "6/6 [==============================] - 1s 148ms/step - loss: 0.3901 - accuracy: 0.8887 - val_loss: 0.4205 - val_accuracy: 0.8673\n",
      "Epoch 16/50\n",
      "6/6 [==============================] - 1s 153ms/step - loss: 0.3887 - accuracy: 0.8931 - val_loss: 0.4468 - val_accuracy: 0.8537\n",
      "Epoch 17/50\n",
      "6/6 [==============================] - 1s 150ms/step - loss: 0.3824 - accuracy: 0.8887 - val_loss: 0.4461 - val_accuracy: 0.8537\n",
      "Epoch 18/50\n",
      "6/6 [==============================] - 1s 152ms/step - loss: 0.3919 - accuracy: 0.8858 - val_loss: 0.4474 - val_accuracy: 0.8639\n",
      "Epoch 19/50\n",
      "6/6 [==============================] - 1s 145ms/step - loss: 0.3872 - accuracy: 0.8873 - val_loss: 0.4526 - val_accuracy: 0.8537\n",
      "Epoch 20/50\n",
      "6/6 [==============================] - 1s 144ms/step - loss: 0.3883 - accuracy: 0.8770 - val_loss: 0.4563 - val_accuracy: 0.8503\n",
      "Epoch 21/50\n",
      "6/6 [==============================] - 1s 144ms/step - loss: 0.3904 - accuracy: 0.8843 - val_loss: 0.4637 - val_accuracy: 0.8503\n",
      "Epoch 22/50\n",
      "6/6 [==============================] - 1s 147ms/step - loss: 0.3870 - accuracy: 0.8843 - val_loss: 0.4569 - val_accuracy: 0.8537\n",
      "Epoch 23/50\n",
      "6/6 [==============================] - 1s 144ms/step - loss: 0.4005 - accuracy: 0.8843 - val_loss: 0.4836 - val_accuracy: 0.8469\n",
      "Epoch 24/50\n",
      "6/6 [==============================] - 1s 144ms/step - loss: 0.3870 - accuracy: 0.8814 - val_loss: 0.4428 - val_accuracy: 0.8571\n",
      "Epoch 25/50\n",
      "6/6 [==============================] - 1s 145ms/step - loss: 0.3890 - accuracy: 0.8770 - val_loss: 0.4483 - val_accuracy: 0.8435\n",
      "Epoch 26/50\n",
      "6/6 [==============================] - 1s 143ms/step - loss: 0.4123 - accuracy: 0.8829 - val_loss: 0.4720 - val_accuracy: 0.8435\n",
      "Epoch 27/50\n",
      "6/6 [==============================] - 1s 145ms/step - loss: 0.4210 - accuracy: 0.8785 - val_loss: 0.4786 - val_accuracy: 0.8435\n",
      "Epoch 28/50\n",
      "6/6 [==============================] - 1s 158ms/step - loss: 0.4202 - accuracy: 0.8638 - val_loss: 0.5249 - val_accuracy: 0.8333\n",
      "Epoch 29/50\n",
      "6/6 [==============================] - 1s 153ms/step - loss: 0.4260 - accuracy: 0.8697 - val_loss: 0.4828 - val_accuracy: 0.8469\n",
      "Epoch 30/50\n",
      "6/6 [==============================] - 1s 154ms/step - loss: 0.3775 - accuracy: 0.8785 - val_loss: 0.4810 - val_accuracy: 0.8469\n",
      "Epoch 31/50\n",
      "6/6 [==============================] - 1s 156ms/step - loss: 0.3699 - accuracy: 0.8741 - val_loss: 0.4700 - val_accuracy: 0.8469\n",
      "Epoch 32/50\n",
      "6/6 [==============================] - 1s 148ms/step - loss: 0.3706 - accuracy: 0.8799 - val_loss: 0.4622 - val_accuracy: 0.8503\n",
      "Epoch 33/50\n",
      "6/6 [==============================] - 1s 146ms/step - loss: 0.3979 - accuracy: 0.8843 - val_loss: 0.4834 - val_accuracy: 0.8469\n",
      "Epoch 34/50\n",
      "6/6 [==============================] - 1s 153ms/step - loss: 0.3832 - accuracy: 0.8829 - val_loss: 0.4619 - val_accuracy: 0.8537\n",
      "Epoch 35/50\n",
      "6/6 [==============================] - 1s 144ms/step - loss: 0.3846 - accuracy: 0.8814 - val_loss: 0.4575 - val_accuracy: 0.8537\n",
      "Epoch 36/50\n",
      "6/6 [==============================] - 1s 145ms/step - loss: 0.3857 - accuracy: 0.8741 - val_loss: 0.4901 - val_accuracy: 0.8469\n",
      "Epoch 37/50\n",
      "6/6 [==============================] - 1s 157ms/step - loss: 0.3856 - accuracy: 0.8814 - val_loss: 0.4598 - val_accuracy: 0.8537\n",
      "Epoch 38/50\n",
      "6/6 [==============================] - 1s 150ms/step - loss: 0.3799 - accuracy: 0.8887 - val_loss: 0.4471 - val_accuracy: 0.8537\n",
      "Epoch 39/50\n",
      "6/6 [==============================] - 1s 146ms/step - loss: 0.3785 - accuracy: 0.8843 - val_loss: 0.4737 - val_accuracy: 0.8537\n",
      "Epoch 40/50\n",
      "6/6 [==============================] - 1s 148ms/step - loss: 0.3818 - accuracy: 0.8887 - val_loss: 0.4592 - val_accuracy: 0.8537\n",
      "Epoch 41/50\n",
      "6/6 [==============================] - 1s 142ms/step - loss: 0.3970 - accuracy: 0.8755 - val_loss: 0.4591 - val_accuracy: 0.8571\n",
      "Epoch 42/50\n",
      "6/6 [==============================] - 1s 141ms/step - loss: 0.3679 - accuracy: 0.8887 - val_loss: 0.4711 - val_accuracy: 0.8537\n",
      "Epoch 43/50\n",
      "6/6 [==============================] - 1s 150ms/step - loss: 0.3814 - accuracy: 0.8829 - val_loss: 0.4350 - val_accuracy: 0.8571\n",
      "Epoch 44/50\n",
      "6/6 [==============================] - 1s 157ms/step - loss: 0.3901 - accuracy: 0.8785 - val_loss: 0.4557 - val_accuracy: 0.8605\n",
      "Epoch 45/50\n",
      "6/6 [==============================] - 1s 155ms/step - loss: 0.3934 - accuracy: 0.8785 - val_loss: 0.4799 - val_accuracy: 0.8571\n",
      "Epoch 46/50\n",
      "6/6 [==============================] - 1s 143ms/step - loss: 0.3820 - accuracy: 0.8829 - val_loss: 0.4480 - val_accuracy: 0.8537\n",
      "Epoch 47/50\n",
      "6/6 [==============================] - 1s 143ms/step - loss: 0.3631 - accuracy: 0.8858 - val_loss: 0.4747 - val_accuracy: 0.8537\n",
      "Epoch 48/50\n",
      "6/6 [==============================] - 1s 144ms/step - loss: 0.3785 - accuracy: 0.8785 - val_loss: 0.4669 - val_accuracy: 0.8537\n",
      "Epoch 49/50\n",
      "6/6 [==============================] - 1s 142ms/step - loss: 0.3854 - accuracy: 0.8814 - val_loss: 0.4831 - val_accuracy: 0.8537\n",
      "Epoch 50/50\n",
      "6/6 [==============================] - 1s 147ms/step - loss: 0.3725 - accuracy: 0.8799 - val_loss: 0.4439 - val_accuracy: 0.8605\n",
      "10/10 [==============================] - 0s 21ms/step - loss: 0.4439 - accuracy: 0.8605\n",
      "Loss: 0.44388797879219055, Accuracy: 0.8605442047119141\n"
     ]
    }
   ],
   "source": [
    "model.fit(X_train_pad, y_train, epochs=50, batch_size=128, validation_data=(X_test_pad, y_test))\n",
    "# Model evaluation\n",
    "loss, accuracy = model.evaluate(X_test_pad, y_test)\n",
    "print(f'Loss: {loss}, Accuracy: {accuracy}')"
   ],
   "metadata": {
    "collapsed": false,
    "ExecuteTime": {
     "end_time": "2023-12-22T03:44:20.339599300Z",
     "start_time": "2023-12-22T03:43:35.680838Z"
    }
   },
   "id": "fbbcce7436cc4ab7"
  },
  {
   "cell_type": "code",
   "execution_count": 105,
   "outputs": [
    {
     "name": "stdout",
     "output_type": "stream",
     "text": [
      "1/1 [==============================] - 0s 59ms/step\n",
      "[[5, 1]]\n",
      "Predicted Sentiment: 2\n"
     ]
    }
   ],
   "source": [
    "sample_data = 'tempatnya agak kurang, banyak pungli dimana mana'\n",
    "sample_data = secondClean(sample_data)\n",
    "sample_data = lowercase(sample_data)\n",
    "sample_data = stopwording(sample_data)\n",
    "sample_data = lemma(sample_data)\n",
    "sample_data_sequence = tokenizer.texts_to_sequences([sample_data])\n",
    "sample_data_pad = pad_sequences(sample_data_sequence, maxlen=max_len)\n",
    "prediction = model.predict(sample_data_pad)\n",
    "predicted_class = np.argmax(prediction)\n",
    "print(sample_data_sequence)\n",
    "print(f'Predicted Sentiment: {predicted_class}')"
   ],
   "metadata": {
    "collapsed": false,
    "ExecuteTime": {
     "end_time": "2023-12-22T03:45:22.873553500Z",
     "start_time": "2023-12-22T03:45:22.649476700Z"
    }
   },
   "id": "ec7e5ebf0bb44644"
  },
  {
   "cell_type": "code",
   "execution_count": 82,
   "outputs": [
    {
     "name": "stderr",
     "output_type": "stream",
     "text": [
      "C:\\Users\\faiq\\PycharmProjects\\ModalJalan\\lib\\site-packages\\keras\\src\\engine\\training.py:3103: UserWarning: You are saving your model as an HDF5 file via `model.save()`. This file format is considered legacy. We recommend using instead the native Keras format, e.g. `model.save('my_model.keras')`.\n",
      "  saving_api.save_model(\n"
     ]
    }
   ],
   "source": [
    "if __name__ == '__main__':\n",
    "    # DO NOT CHANGE THIS CODE\n",
    "    model = model\n",
    "    model.save(\"modaljalan4.h5\")"
   ],
   "metadata": {
    "collapsed": false,
    "ExecuteTime": {
     "end_time": "2023-12-21T19:36:17.937414800Z",
     "start_time": "2023-12-21T19:36:17.729143800Z"
    }
   },
   "id": "b14e8e53a745c3fe"
  },
  {
   "cell_type": "code",
   "execution_count": 80,
   "outputs": [],
   "source": [
    "# Convert the model.\n",
    "from tensorflow import lite\n",
    "converter = lite.TFLiteConverter.from_keras_model(model)\n",
    "\n",
    "converter.optimizations = [tf.lite.Optimize.DEFAULT]\n",
    "converter.experimental_new_converter=True\n",
    "converter.target_spec.supported_ops = [tf.lite.OpsSet.TFLITE_BUILTINS,\n",
    "tf.lite.OpsSet.SELECT_TF_OPS]\n",
    "tfmodel = converter.convert()\n",
    "\n",
    "# Save the model.\n",
    "with open('model3.tflite', 'wb') as f:\n",
    "  f.write(tfmodel)"
   ],
   "metadata": {
    "collapsed": false,
    "ExecuteTime": {
     "end_time": "2023-12-21T19:28:28.254450600Z",
     "start_time": "2023-12-21T19:28:26.415027600Z"
    }
   },
   "id": "d3e3d21cf5502ae4"
  },
  {
   "cell_type": "code",
   "execution_count": 106,
   "outputs": [],
   "source": [
    "import json\n",
    "\n",
    "metadata = {\n",
    "    \"name\": \"my_model\",\n",
    "    \"version\": \"1.0\",\n",
    "    \"description\": \"Model for sentiment analysis\",\n",
    "    \"architecture\": [\n",
    "        {\"name\": \"Embedding\", \"units\": 128, \"input_length\": 100},\n",
    "        {\"name\": \"Dense\", \"units\": 128},\n",
    "        {\"name\": \"Dense\", \"units\": 256},\n",
    "        {\"name\": \"SpatialDropout1D\", \"rate\": 0.2},\n",
    "        {\"name\": \"LSTM\", \"units\": 128, \"dropout\": 0.2, \"recurrent_dropout\": 0.2},\n",
    "        {\"name\": \"Dropout\", \"rate\": 0.5},\n",
    "        {\"name\": \"Dense\", \"units\": 3, \"activation\": \"softmax\"}\n",
    "    ],\n",
    "    \"weights\": \"...\",\n",
    "    \"configuration\": {\n",
    "        \"learning_rate\": 0.01,\n",
    "        \"optimizer\": \"Adam\"\n",
    "    },\n",
    "    \"data\": \"...\",\n",
    "    \"creation_date\": \"2023-12-22\",\n",
    "    \"creator\": \"Bard\"\n",
    "}\n",
    "\n",
    "with open('model_metadata.json', 'w') as f:\n",
    "    json.dump(metadata, f)\n"
   ],
   "metadata": {
    "collapsed": false,
    "ExecuteTime": {
     "end_time": "2023-12-22T03:48:33.127725900Z",
     "start_time": "2023-12-22T03:48:33.024251600Z"
    }
   },
   "id": "4df44e030e07d4d2"
  },
  {
   "cell_type": "code",
   "execution_count": null,
   "outputs": [],
   "source": [],
   "metadata": {
    "collapsed": false
   },
   "id": "a87210f78b3dfd65"
  }
 ],
 "metadata": {
  "kernelspec": {
   "display_name": "Python 3",
   "language": "python",
   "name": "python3"
  },
  "language_info": {
   "codemirror_mode": {
    "name": "ipython",
    "version": 2
   },
   "file_extension": ".py",
   "mimetype": "text/x-python",
   "name": "python",
   "nbconvert_exporter": "python",
   "pygments_lexer": "ipython2",
   "version": "2.7.6"
  }
 },
 "nbformat": 4,
 "nbformat_minor": 5
}
